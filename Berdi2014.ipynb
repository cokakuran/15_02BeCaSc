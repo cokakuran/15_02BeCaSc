{
 "metadata": {
  "name": "",
  "signature": "sha256:80783c26c86973a7bc9fbfd07b9b50cfd3228c7d57ee75cda82f6031f4266f1e"
 },
 "nbformat": 3,
 "nbformat_minor": 0,
 "worksheets": [
  {
   "cells": [
    {
     "cell_type": "markdown",
     "metadata": {},
     "source": [
      "Importing Alex data using panda"
     ]
    },
    {
     "cell_type": "markdown",
     "metadata": {},
     "source": [
      "We first import os, numpy, and pandas to deal with the data. We also import re to find the name of the mice."
     ]
    },
    {
     "cell_type": "code",
     "collapsed": false,
     "input": [
      "import os\n",
      "import numpy as np\n",
      "import pandas as pd\n",
      "import re\n",
      "from datetime import datetime as dt"
     ],
     "language": "python",
     "metadata": {},
     "outputs": [],
     "prompt_number": 87
    },
    {
     "cell_type": "markdown",
     "metadata": {},
     "source": [
      "Now we load the data in all the datasets in "
     ]
    },
    {
     "cell_type": "code",
     "collapsed": false,
     "input": [
      "def date_parser_f(date):\n",
      "    return dt.strptime(date, \"%Y-%m-%d %H:%M:%S.%f\")\n",
      "\n",
      "path = \"/home/rcaze/Data/Berdi2014/\"\n",
      "re_name = r'[A-Za-z0-9]*'\n",
      "datasets = []\n",
      "for fname in os.listdir(path):\n",
      "    c_names = [\"Date\", \"Lick\", \"Period\", \"Trial\", \"Stim\", \"Outcome\"]\n",
      "    datasets.append(pd.read_csv(path + fname, parse_dates=\"Timestamp\", date_parser=date_parser_f))\n",
      "    datasets[-1].columns = c_names\n",
      "    del datasets[-1][\"Outcome\"]\n",
      "    mice_name = re.match(re_name, fname)\n",
      "    datasets[-1]['MouseName'] = mice_name.group()"
     ],
     "language": "python",
     "metadata": {},
     "outputs": [],
     "prompt_number": 88
    },
    {
     "cell_type": "code",
     "collapsed": false,
     "input": [
      "datasets[0]['Date'][0]"
     ],
     "language": "python",
     "metadata": {},
     "outputs": [
      {
       "metadata": {},
       "output_type": "pyout",
       "prompt_number": 89,
       "text": [
        "'2013-11-05 11:04:57.771'"
       ]
      }
     ],
     "prompt_number": 89
    },
    {
     "cell_type": "markdown",
     "metadata": {},
     "source": [
      "The Date column is the index and we look at the first few rows of one dataset."
     ]
    },
    {
     "cell_type": "code",
     "collapsed": false,
     "input": [
      "test = datasets[1]\n",
      "test.index = test['Date']\n",
      "test.head()"
     ],
     "language": "python",
     "metadata": {},
     "outputs": [
      {
       "metadata": {},
       "output_type": "pyout",
       "prompt_number": 12,
       "text": [
        "                                            Date  Lick Period  Trial  Stim MouseName\n",
        "2013-11-05 13:06:33.874  2013-11-05 13:06:33.874     0    ITI      1     1     raisa\n",
        "2013-11-05 13:06:33.894  2013-11-05 13:06:33.894     0    ITI      1     1     raisa\n",
        "2013-11-05 13:06:33.914  2013-11-05 13:06:33.914     1    ITI      1     1     raisa\n",
        "2013-11-05 13:06:33.934  2013-11-05 13:06:33.934     1    ITI      1     1     raisa\n",
        "2013-11-05 13:06:33.954  2013-11-05 13:06:33.954     0    ITI      1     1     raisa"
       ]
      }
     ],
     "prompt_number": 12
    },
    {
     "cell_type": "markdown",
     "metadata": {},
     "source": [
      "We are grouping the data and remove the superfluous date column"
     ]
    },
    {
     "cell_type": "code",
     "collapsed": false,
     "input": [
      "all_data = pd.concat(datasets)\n",
      "all_data.index = all_data['Date']\n",
      "del all_data['Date']\n",
      "all_data.to_csv('test.csv')"
     ],
     "language": "python",
     "metadata": {},
     "outputs": [],
     "prompt_number": 5
    },
    {
     "cell_type": "heading",
     "level": 1,
     "metadata": {},
     "source": [
      "Plotting Alex's data and obtaining a lick report"
     ]
    },
    {
     "cell_type": "code",
     "collapsed": false,
     "input": [
      "from datetime import datetime as dt"
     ],
     "language": "python",
     "metadata": {},
     "outputs": [],
     "prompt_number": 35
    },
    {
     "cell_type": "code",
     "collapsed": false,
     "input": [
      "date = all_data.index[0]\n",
      "print date\n",
      "def date_parser_f(date):\n",
      "    return dt.strptime(date, \"%Y-%m-%d %H:%M:%S.%f\")\n",
      "date_parser_f(date)"
     ],
     "language": "python",
     "metadata": {},
     "outputs": [
      {
       "output_type": "stream",
       "stream": "stdout",
       "text": [
        "2013-11-05 11:04:57.771\n"
       ]
      },
      {
       "metadata": {},
       "output_type": "pyout",
       "prompt_number": 36,
       "text": [
        "datetime.datetime(2013, 11, 5, 11, 4, 57, 771000)"
       ]
      }
     ],
     "prompt_number": 36
    },
    {
     "cell_type": "code",
     "collapsed": false,
     "input": [
      "a.microsecond"
     ],
     "language": "python",
     "metadata": {},
     "outputs": [
      {
       "metadata": {},
       "output_type": "pyout",
       "prompt_number": 46,
       "text": [
        "771000"
       ]
      }
     ],
     "prompt_number": 46
    },
    {
     "cell_type": "markdown",
     "metadata": {},
     "source": [
      "The first plot to obtain would be the lick report from the session. For that we need to use raster and to extract the data into a nice way."
     ]
    },
    {
     "cell_type": "heading",
     "level": 1,
     "metadata": {},
     "source": [
      "A deterministic task learned by reinforcement learning"
     ]
    },
    {
     "cell_type": "markdown",
     "metadata": {},
     "source": [
      "The first task is to have a model of task as close as possible from Alexandra's task. In informal term, the task consists to lick when a vertical stimulus is presented to the mouse and to withhold licking when an horizontal stimulus is presented. The two sets of stimulus are presented in a pseudo-random sequence.\n",
      "\n",
      "On can use an elementary model to describe the behaviour of the mouse. An agent with four Q-values, two actions in for each of the two states: $[Q_{0,0},Q_{0,1},Q_{1,0},Q_{1,1}]$. A $Q$-value is updated using a simple delta rule, where $Q(t)$ and $r(t)$ are $Q$-value and reward for the trial t and $\\alpha$ is the learning rate of the agent: $Q(t+1) = Q(t) + \\alpha (r(t)-Q(t))$. In each trial only one $Q$ is updated depending on the state and the action."
     ]
    },
    {
     "cell_type": "code",
     "collapsed": false,
     "input": [
      "%run lib.py\n",
      "states = stimulus(100, 0.5)\n",
      "rec_q, rec_action, rec_reward = testbed(states)"
     ],
     "language": "python",
     "metadata": {},
     "outputs": [],
     "prompt_number": 2
    },
    {
     "cell_type": "code",
     "collapsed": false,
     "input": [
      "print rec_action\n",
      "print states"
     ],
     "language": "python",
     "metadata": {},
     "outputs": [
      {
       "output_type": "stream",
       "stream": "stdout",
       "text": [
        "[1 1 1 1 1 1 1 1 1 1 1 1 1 1 1 1 1 1 1 1 1 1 1 1 1 1 1 1 1 1 1 1 1 1 1 1 1\n",
        " 1 1 1 1 1 1 1 1 1 1 1 1 1 1 1 1 1 1 1 1 1 1 1 1 1 1 0 1 1 1 0 1 1 1 1 1 1\n",
        " 0 1 1 1 1 0 1 1 1 1 0 0 1 1 1 1 0 1 1 0 1 0 0 1 1 1]\n",
        "[0 1 0 1 0 1 0 1 0 0 1 1 1 0 1 1 0 0 1 0 1 0 0 1 0 1 1 0 0 1 0 0 0 0 0 0 0\n",
        " 0 0 0 0 0 0 0 0 1 1 0 1 0 1 0 1 1 1 0 1 1 0 0 0 1 0 0 0 0 0 1 1 0 0 0 0 1\n",
        " 0 0 1 1 0 0 1 1 1 0 1 0 0 1 0 1 1 1 1 1 0 0 0 0 1 0]\n"
       ]
      }
     ],
     "prompt_number": 3
    },
    {
     "cell_type": "markdown",
     "metadata": {},
     "source": [
      "This little piece of script is showing that an agent learns really fast this easy task. Reward at deterministic and in both state the number of actions is two, so theoretically a one shot learning is sufficient. In order to match the behavioral observation one need to degrad the behavior. But first I will work on an ROC representation of the result and try to obtain the same kind of ROC plot as Alex.\n",
      "\n",
      "I need to design a function with a sliding window, to determine the hit and false alarm rate, given a set of states and a set of actions."
     ]
    },
    {
     "cell_type": "code",
     "collapsed": false,
     "input": [
      "%run lib.py\n",
      "states = stimulus(100, 0.5)\n",
      "rec_q, rec_actions, rec_reward = testbed(states)\n",
      "spe_traj, sen_traj = sliding_estimate(states, rec_actions, 20)\n",
      "ROC(spe_traj, sen_traj)"
     ],
     "language": "python",
     "metadata": {},
     "outputs": [
      {
       "ename": "ValueError",
       "evalue": "need more than 2 values to unpack",
       "output_type": "pyerr",
       "traceback": [
        "\u001b[1;31m---------------------------------------------------------------------------\u001b[0m\n\u001b[1;31mValueError\u001b[0m                                Traceback (most recent call last)",
        "\u001b[1;32m<ipython-input-4-8a3c546ef27c>\u001b[0m in \u001b[0;36m<module>\u001b[1;34m()\u001b[0m\n\u001b[0;32m      2\u001b[0m \u001b[0mstates\u001b[0m \u001b[1;33m=\u001b[0m \u001b[0mstimulus\u001b[0m\u001b[1;33m(\u001b[0m\u001b[1;36m100\u001b[0m\u001b[1;33m,\u001b[0m \u001b[1;36m0.5\u001b[0m\u001b[1;33m)\u001b[0m\u001b[1;33m\u001b[0m\u001b[0m\n\u001b[0;32m      3\u001b[0m \u001b[0mrec_q\u001b[0m\u001b[1;33m,\u001b[0m \u001b[0mrec_actions\u001b[0m\u001b[1;33m,\u001b[0m \u001b[0mrec_reward\u001b[0m \u001b[1;33m=\u001b[0m \u001b[0mtestbed\u001b[0m\u001b[1;33m(\u001b[0m\u001b[0mstates\u001b[0m\u001b[1;33m)\u001b[0m\u001b[1;33m\u001b[0m\u001b[0m\n\u001b[1;32m----> 4\u001b[1;33m \u001b[0mspe_traj\u001b[0m\u001b[1;33m,\u001b[0m \u001b[0msen_traj\u001b[0m \u001b[1;33m=\u001b[0m \u001b[0msliding_estimate\u001b[0m\u001b[1;33m(\u001b[0m\u001b[0mstates\u001b[0m\u001b[1;33m,\u001b[0m \u001b[0mrec_actions\u001b[0m\u001b[1;33m,\u001b[0m \u001b[1;36m20\u001b[0m\u001b[1;33m)\u001b[0m\u001b[1;33m\u001b[0m\u001b[0m\n\u001b[0m\u001b[0;32m      5\u001b[0m \u001b[0mROC\u001b[0m\u001b[1;33m(\u001b[0m\u001b[0mspe_traj\u001b[0m\u001b[1;33m,\u001b[0m \u001b[0msen_traj\u001b[0m\u001b[1;33m)\u001b[0m\u001b[1;33m\u001b[0m\u001b[0m\n",
        "\u001b[1;32m/home/rcaze/Content/Scripts/PYTHON/Berdi2014/lib.py\u001b[0m in \u001b[0;36msliding_estimate\u001b[1;34m(target, actual, window_s)\u001b[0m\n\u001b[0;32m    270\u001b[0m     \u001b[1;32mfor\u001b[0m \u001b[0mi\u001b[0m \u001b[1;32min\u001b[0m \u001b[0mxrange\u001b[0m\u001b[1;33m(\u001b[0m\u001b[0mn_windows\u001b[0m\u001b[1;33m)\u001b[0m\u001b[1;33m:\u001b[0m\u001b[1;33m\u001b[0m\u001b[0m\n\u001b[0;32m    271\u001b[0m         spe, sen, matt = spe_sen(target[i:i + window_s],\n\u001b[1;32m--> 272\u001b[1;33m                                  actual[i:i + window_s])\n\u001b[0m\u001b[0;32m    273\u001b[0m         \u001b[0mspe_traj\u001b[0m\u001b[1;33m[\u001b[0m\u001b[0mi\u001b[0m\u001b[1;33m]\u001b[0m \u001b[1;33m=\u001b[0m \u001b[0mspe\u001b[0m\u001b[1;33m\u001b[0m\u001b[0m\n\u001b[0;32m    274\u001b[0m         \u001b[0msen_traj\u001b[0m\u001b[1;33m[\u001b[0m\u001b[0mi\u001b[0m\u001b[1;33m]\u001b[0m \u001b[1;33m=\u001b[0m \u001b[0msen\u001b[0m\u001b[1;33m\u001b[0m\u001b[0m\n",
        "\u001b[1;31mValueError\u001b[0m: need more than 2 values to unpack"
       ]
      }
     ],
     "prompt_number": 4
    },
    {
     "cell_type": "code",
     "collapsed": false,
     "input": [
      "rec_q"
     ],
     "language": "python",
     "metadata": {},
     "outputs": [
      {
       "metadata": {},
       "output_type": "pyout",
       "prompt_number": 5,
       "text": [
        "array([[[-3.  ,  3.  ],\n",
        "        [-3.  ,  3.  ]],\n",
        "\n",
        "       [[-2.97,  2.97],\n",
        "        [-2.97,  2.97]],\n",
        "\n",
        "       [[-2.94,  2.94],\n",
        "        [-2.94,  2.94]],\n",
        "\n",
        "       [[-2.91,  2.91],\n",
        "        [-2.91,  2.91]],\n",
        "\n",
        "       [[-2.88,  2.88],\n",
        "        [-2.88,  2.88]],\n",
        "\n",
        "       [[-2.85,  2.85],\n",
        "        [-2.85,  2.85]],\n",
        "\n",
        "       [[-2.82,  2.82],\n",
        "        [-2.82,  2.82]],\n",
        "\n",
        "       [[-2.79,  2.79],\n",
        "        [-2.79,  2.79]],\n",
        "\n",
        "       [[-2.76,  2.76],\n",
        "        [-2.76,  2.76]],\n",
        "\n",
        "       [[-2.73,  2.73],\n",
        "        [-2.73,  2.73]],\n",
        "\n",
        "       [[-2.7 ,  2.7 ],\n",
        "        [-2.7 ,  2.7 ]],\n",
        "\n",
        "       [[-2.67,  2.67],\n",
        "        [-2.67,  2.67]],\n",
        "\n",
        "       [[-2.64,  2.64],\n",
        "        [-2.64,  2.64]],\n",
        "\n",
        "       [[-2.61,  2.61],\n",
        "        [-2.61,  2.61]],\n",
        "\n",
        "       [[-2.58,  2.58],\n",
        "        [-2.58,  2.58]],\n",
        "\n",
        "       [[-2.55,  2.55],\n",
        "        [-2.55,  2.55]],\n",
        "\n",
        "       [[-2.52,  2.52],\n",
        "        [-2.52,  2.52]],\n",
        "\n",
        "       [[-2.49,  2.49],\n",
        "        [-2.49,  2.49]],\n",
        "\n",
        "       [[-2.46,  2.46],\n",
        "        [-2.46,  2.46]],\n",
        "\n",
        "       [[-2.43,  2.43],\n",
        "        [-2.43,  2.43]],\n",
        "\n",
        "       [[-2.4 ,  2.4 ],\n",
        "        [-2.4 ,  2.4 ]],\n",
        "\n",
        "       [[-2.37,  2.37],\n",
        "        [-2.37,  2.37]],\n",
        "\n",
        "       [[-2.34,  2.34],\n",
        "        [-2.34,  2.34]],\n",
        "\n",
        "       [[-2.31,  2.31],\n",
        "        [-2.31,  2.31]],\n",
        "\n",
        "       [[-2.28,  2.28],\n",
        "        [-2.28,  2.28]],\n",
        "\n",
        "       [[-2.25,  2.25],\n",
        "        [-2.25,  2.25]],\n",
        "\n",
        "       [[-2.22,  2.22],\n",
        "        [-2.22,  2.22]],\n",
        "\n",
        "       [[-2.19,  2.19],\n",
        "        [-2.19,  2.19]],\n",
        "\n",
        "       [[-2.16,  2.16],\n",
        "        [-2.16,  2.16]],\n",
        "\n",
        "       [[-2.13,  2.13],\n",
        "        [-2.13,  2.13]],\n",
        "\n",
        "       [[-2.1 ,  2.1 ],\n",
        "        [-2.1 ,  2.1 ]],\n",
        "\n",
        "       [[-2.07,  2.07],\n",
        "        [-2.07,  2.07]],\n",
        "\n",
        "       [[-2.04,  2.04],\n",
        "        [-2.04,  2.04]],\n",
        "\n",
        "       [[-2.01,  2.01],\n",
        "        [-2.01,  2.01]],\n",
        "\n",
        "       [[-1.98,  1.98],\n",
        "        [-1.98,  1.98]],\n",
        "\n",
        "       [[-1.95,  1.95],\n",
        "        [-1.95,  1.95]],\n",
        "\n",
        "       [[-1.92,  1.92],\n",
        "        [-1.92,  1.92]],\n",
        "\n",
        "       [[-1.89,  1.89],\n",
        "        [-1.89,  1.89]],\n",
        "\n",
        "       [[-1.86,  1.86],\n",
        "        [-1.86,  1.86]],\n",
        "\n",
        "       [[-1.83,  1.83],\n",
        "        [-1.83,  1.83]],\n",
        "\n",
        "       [[-1.8 ,  1.8 ],\n",
        "        [-1.8 ,  1.8 ]],\n",
        "\n",
        "       [[-1.77,  1.77],\n",
        "        [-1.77,  1.77]],\n",
        "\n",
        "       [[-1.74,  1.74],\n",
        "        [-1.74,  1.74]],\n",
        "\n",
        "       [[-1.71,  1.71],\n",
        "        [-1.71,  1.71]],\n",
        "\n",
        "       [[-1.68,  1.68],\n",
        "        [-1.68,  1.68]],\n",
        "\n",
        "       [[-1.65,  1.65],\n",
        "        [-1.65,  1.65]],\n",
        "\n",
        "       [[-1.62,  1.62],\n",
        "        [-1.62,  1.62]],\n",
        "\n",
        "       [[-1.59,  1.59],\n",
        "        [-1.59,  1.59]],\n",
        "\n",
        "       [[-1.56,  1.56],\n",
        "        [-1.56,  1.56]],\n",
        "\n",
        "       [[-1.53,  1.53],\n",
        "        [-1.53,  1.53]],\n",
        "\n",
        "       [[-1.5 ,  1.5 ],\n",
        "        [-1.5 ,  1.5 ]],\n",
        "\n",
        "       [[-1.47,  1.47],\n",
        "        [-1.47,  1.47]],\n",
        "\n",
        "       [[-1.44,  1.44],\n",
        "        [-1.44,  1.44]],\n",
        "\n",
        "       [[-1.41,  1.41],\n",
        "        [-1.41,  1.41]],\n",
        "\n",
        "       [[-1.38,  1.38],\n",
        "        [-1.38,  1.38]],\n",
        "\n",
        "       [[-1.35,  1.35],\n",
        "        [-1.35,  1.35]],\n",
        "\n",
        "       [[-1.32,  1.32],\n",
        "        [-1.32,  1.32]],\n",
        "\n",
        "       [[-1.29,  1.29],\n",
        "        [-1.29,  1.29]],\n",
        "\n",
        "       [[-1.26,  1.26],\n",
        "        [-1.26,  1.26]],\n",
        "\n",
        "       [[-1.23,  1.23],\n",
        "        [-1.23,  1.23]],\n",
        "\n",
        "       [[-1.2 ,  1.2 ],\n",
        "        [-1.2 ,  1.2 ]],\n",
        "\n",
        "       [[-1.17,  1.17],\n",
        "        [-1.17,  1.17]],\n",
        "\n",
        "       [[-1.14,  1.14],\n",
        "        [-1.14,  1.14]],\n",
        "\n",
        "       [[-1.11,  1.11],\n",
        "        [-1.11,  1.11]],\n",
        "\n",
        "       [[-1.08,  1.08],\n",
        "        [-1.08,  1.08]],\n",
        "\n",
        "       [[-1.05,  1.05],\n",
        "        [-1.05,  1.05]],\n",
        "\n",
        "       [[-1.02,  1.02],\n",
        "        [-1.02,  1.02]],\n",
        "\n",
        "       [[-0.99,  0.99],\n",
        "        [-0.99,  0.99]],\n",
        "\n",
        "       [[-0.96,  0.96],\n",
        "        [-0.96,  0.96]],\n",
        "\n",
        "       [[-0.93,  0.93],\n",
        "        [-0.93,  0.93]],\n",
        "\n",
        "       [[-0.9 ,  0.9 ],\n",
        "        [-0.9 ,  0.9 ]],\n",
        "\n",
        "       [[-0.87,  0.87],\n",
        "        [-0.87,  0.87]],\n",
        "\n",
        "       [[-0.84,  0.84],\n",
        "        [-0.84,  0.84]],\n",
        "\n",
        "       [[-0.81,  0.81],\n",
        "        [-0.81,  0.81]],\n",
        "\n",
        "       [[-0.78,  0.78],\n",
        "        [-0.78,  0.78]],\n",
        "\n",
        "       [[-0.75,  0.75],\n",
        "        [-0.75,  0.75]],\n",
        "\n",
        "       [[-0.72,  0.72],\n",
        "        [-0.72,  0.72]],\n",
        "\n",
        "       [[-0.69,  0.69],\n",
        "        [-0.69,  0.69]],\n",
        "\n",
        "       [[-0.66,  0.66],\n",
        "        [-0.66,  0.66]],\n",
        "\n",
        "       [[-0.63,  0.63],\n",
        "        [-0.63,  0.63]],\n",
        "\n",
        "       [[-0.6 ,  0.6 ],\n",
        "        [-0.6 ,  0.6 ]],\n",
        "\n",
        "       [[-0.57,  0.57],\n",
        "        [-0.57,  0.57]],\n",
        "\n",
        "       [[-0.54,  0.54],\n",
        "        [-0.54,  0.54]],\n",
        "\n",
        "       [[-0.51,  0.51],\n",
        "        [-0.51,  0.51]],\n",
        "\n",
        "       [[-0.48,  0.48],\n",
        "        [-0.48,  0.48]],\n",
        "\n",
        "       [[-0.45,  0.45],\n",
        "        [-0.45,  0.45]],\n",
        "\n",
        "       [[-0.42,  0.42],\n",
        "        [-0.42,  0.42]],\n",
        "\n",
        "       [[-0.39,  0.39],\n",
        "        [-0.39,  0.39]],\n",
        "\n",
        "       [[-0.36,  0.36],\n",
        "        [-0.36,  0.36]],\n",
        "\n",
        "       [[-0.33,  0.33],\n",
        "        [-0.33,  0.33]],\n",
        "\n",
        "       [[-0.3 ,  0.3 ],\n",
        "        [-0.3 ,  0.3 ]],\n",
        "\n",
        "       [[-0.27,  0.27],\n",
        "        [-0.27,  0.27]],\n",
        "\n",
        "       [[-0.24,  0.24],\n",
        "        [-0.24,  0.24]],\n",
        "\n",
        "       [[-0.21,  0.21],\n",
        "        [-0.21,  0.21]],\n",
        "\n",
        "       [[-0.18,  0.18],\n",
        "        [-0.18,  0.18]],\n",
        "\n",
        "       [[-0.15,  0.15],\n",
        "        [-0.15,  0.15]],\n",
        "\n",
        "       [[-0.12,  0.12],\n",
        "        [-0.12,  0.12]],\n",
        "\n",
        "       [[-0.09,  0.09],\n",
        "        [-0.09,  0.09]],\n",
        "\n",
        "       [[-0.06,  0.06],\n",
        "        [-0.06,  0.06]],\n",
        "\n",
        "       [[-0.03,  0.03],\n",
        "        [-0.03,  0.03]]])"
       ]
      }
     ],
     "prompt_number": 5
    },
    {
     "cell_type": "markdown",
     "metadata": {},
     "source": [
      "The type of ROC observed by Alex look like this one. The problem illustrated by the code snippet below is that there is a lot of variation in the possible outcome due to the high temperature necessary to reproduce the experimental results."
     ]
    },
    {
     "cell_type": "code",
     "collapsed": false,
     "input": [
      "%run lib.py\n",
      "states = stimulus(100, 0.5)\n",
      "rec_q, rec_actions, rec_reward = testbed(states)\n",
      "spe_traj, sen_traj = sliding_estimate(states, rec_actions, 20)\n",
      "ROC(spe_traj, sen_traj)"
     ],
     "language": "python",
     "metadata": {},
     "outputs": [
      {
       "ename": "ValueError",
       "evalue": "need more than 2 values to unpack",
       "output_type": "pyerr",
       "traceback": [
        "\u001b[1;31m---------------------------------------------------------------------------\u001b[0m\n\u001b[1;31mValueError\u001b[0m                                Traceback (most recent call last)",
        "\u001b[1;32m<ipython-input-6-8a3c546ef27c>\u001b[0m in \u001b[0;36m<module>\u001b[1;34m()\u001b[0m\n\u001b[0;32m      2\u001b[0m \u001b[0mstates\u001b[0m \u001b[1;33m=\u001b[0m \u001b[0mstimulus\u001b[0m\u001b[1;33m(\u001b[0m\u001b[1;36m100\u001b[0m\u001b[1;33m,\u001b[0m \u001b[1;36m0.5\u001b[0m\u001b[1;33m)\u001b[0m\u001b[1;33m\u001b[0m\u001b[0m\n\u001b[0;32m      3\u001b[0m \u001b[0mrec_q\u001b[0m\u001b[1;33m,\u001b[0m \u001b[0mrec_actions\u001b[0m\u001b[1;33m,\u001b[0m \u001b[0mrec_reward\u001b[0m \u001b[1;33m=\u001b[0m \u001b[0mtestbed\u001b[0m\u001b[1;33m(\u001b[0m\u001b[0mstates\u001b[0m\u001b[1;33m)\u001b[0m\u001b[1;33m\u001b[0m\u001b[0m\n\u001b[1;32m----> 4\u001b[1;33m \u001b[0mspe_traj\u001b[0m\u001b[1;33m,\u001b[0m \u001b[0msen_traj\u001b[0m \u001b[1;33m=\u001b[0m \u001b[0msliding_estimate\u001b[0m\u001b[1;33m(\u001b[0m\u001b[0mstates\u001b[0m\u001b[1;33m,\u001b[0m \u001b[0mrec_actions\u001b[0m\u001b[1;33m,\u001b[0m \u001b[1;36m20\u001b[0m\u001b[1;33m)\u001b[0m\u001b[1;33m\u001b[0m\u001b[0m\n\u001b[0m\u001b[0;32m      5\u001b[0m \u001b[0mROC\u001b[0m\u001b[1;33m(\u001b[0m\u001b[0mspe_traj\u001b[0m\u001b[1;33m,\u001b[0m \u001b[0msen_traj\u001b[0m\u001b[1;33m)\u001b[0m\u001b[1;33m\u001b[0m\u001b[0m\n",
        "\u001b[1;32m/home/rcaze/Content/Scripts/PYTHON/Berdi2014/lib.py\u001b[0m in \u001b[0;36msliding_estimate\u001b[1;34m(target, actual, window_s)\u001b[0m\n\u001b[0;32m    270\u001b[0m     \u001b[1;32mfor\u001b[0m \u001b[0mi\u001b[0m \u001b[1;32min\u001b[0m \u001b[0mxrange\u001b[0m\u001b[1;33m(\u001b[0m\u001b[0mn_windows\u001b[0m\u001b[1;33m)\u001b[0m\u001b[1;33m:\u001b[0m\u001b[1;33m\u001b[0m\u001b[0m\n\u001b[0;32m    271\u001b[0m         spe, sen, matt = spe_sen(target[i:i + window_s],\n\u001b[1;32m--> 272\u001b[1;33m                                  actual[i:i + window_s])\n\u001b[0m\u001b[0;32m    273\u001b[0m         \u001b[0mspe_traj\u001b[0m\u001b[1;33m[\u001b[0m\u001b[0mi\u001b[0m\u001b[1;33m]\u001b[0m \u001b[1;33m=\u001b[0m \u001b[0mspe\u001b[0m\u001b[1;33m\u001b[0m\u001b[0m\n\u001b[0;32m    274\u001b[0m         \u001b[0msen_traj\u001b[0m\u001b[1;33m[\u001b[0m\u001b[0mi\u001b[0m\u001b[1;33m]\u001b[0m \u001b[1;33m=\u001b[0m \u001b[0msen\u001b[0m\u001b[1;33m\u001b[0m\u001b[0m\n",
        "\u001b[1;31mValueError\u001b[0m: need more than 2 values to unpack"
       ]
      }
     ],
     "prompt_number": 6
    },
    {
     "cell_type": "markdown",
     "metadata": {},
     "source": [
      "I saw one of Alex's mice training session. There are many interesting things I learned from it. First there is a lot of information in the licking frequency. The mice are licking a lot in the interstimulus intervals, especially at the beginning of the session. This could give us information about the motivational level of a mouse. Another interesting fact is that mice tend to stop licking when the loud sounds starts, it might mean that mice are using that as a clue to stop licking an not as a punishment. One way to make sure that it is not the case is to take into account only licks that happen before the sound onset, so to see the licking frequency from the onset of the stimulus. I have also new questions. How is the punishment triggered? It seems that the mouse need to lick more than once. Using just auditory cues might also be an idea."
     ]
    },
    {
     "cell_type": "heading",
     "level": 1,
     "metadata": {},
     "source": [
      "Explaining the change in motivation"
     ]
    },
    {
     "cell_type": "markdown",
     "metadata": {},
     "source": [
      "I define three variables $G$, $G_{p}$, and $L$. $G$ is the image projected on the screen $G=0$ means no-go image and $G=1$ means go image, this variable is deterministic and varies given the experimentalist wish. $G_{p}$ is the perceived image by the subject $G_{p}=0$ means it is the no-go percept and $G_{p}=1$ means the go percept. The subject never licks if it perceive a no-go, however, it licks with a probability $p(m)$ with $m$ a variable depending on the motivational state of the subject.  "
     ]
    },
    {
     "cell_type": "code",
     "collapsed": false,
     "input": [
      "duration = 300\n",
      "#Perceptual noise should be between 0 and 0.5 (max).\n",
      "perceptual_noise = 0.3\n",
      "\n",
      "#Generate a G vector\n",
      "G = np.array([0 if i%2 == 0 else 1 for i in range(duration)])\n",
      "print \"Vector of G\" \n",
      "print G\n",
      "print \"\\n\"\n",
      "\n",
      "#Generate the G perceived vector\n",
      "R = np.random.random(duration) > perceptual_noise\n",
      "Gp = np.array(np.bitwise_xor(G,R) < 1, np.int) \n",
      "print \"Vector of perceived G\" \n",
      "print Gp\n",
      "print \"\\n\"\n",
      "\n",
      "#Generate the L vector\n",
      "R2 = np.random.random(duration)\n",
      "#Initialize vectors to record licks and motivation\n",
      "L = np.zeros(duration, np.int)\n",
      "motiv = np.ones(duration, np.float)\n",
      "#initial motivation\n",
      "m = 1\n",
      "for i in range(duration):\n",
      "    if Gp[i] == 1 and R2[i] < m:\n",
      "        L[i] = 1\n",
      "        if G[i] == 1:\n",
      "            m -= 0.01\n",
      "    else:\n",
      "        L[i] = 0\n",
      "\n",
      "print \"Vector of L\"\n",
      "print L"
     ],
     "language": "python",
     "metadata": {},
     "outputs": [
      {
       "output_type": "stream",
       "stream": "stdout",
       "text": [
        "Vector of G\n",
        "[0 1 0 1 0 1 0 1 0 1 0 1 0 1 0 1 0 1 0 1 0 1 0 1 0 1 0 1 0 1 0 1 0 1 0 1 0\n",
        " 1 0 1 0 1 0 1 0 1 0 1 0 1 0 1 0 1 0 1 0 1 0 1 0 1 0 1 0 1 0 1 0 1 0 1 0 1\n",
        " 0 1 0 1 0 1 0 1 0 1 0 1 0 1 0 1 0 1 0 1 0 1 0 1 0 1 0 1 0 1 0 1 0 1 0 1 0\n",
        " 1 0 1 0 1 0 1 0 1 0 1 0 1 0 1 0 1 0 1 0 1 0 1 0 1 0 1 0 1 0 1 0 1 0 1 0 1\n",
        " 0 1 0 1 0 1 0 1 0 1 0 1 0 1 0 1 0 1 0 1 0 1 0 1 0 1 0 1 0 1 0 1 0 1 0 1 0\n",
        " 1 0 1 0 1 0 1 0 1 0 1 0 1 0 1 0 1 0 1 0 1 0 1 0 1 0 1 0 1 0 1 0 1 0 1 0 1\n",
        " 0 1 0 1 0 1 0 1 0 1 0 1 0 1 0 1 0 1 0 1 0 1 0 1 0 1 0 1 0 1 0 1 0 1 0 1 0\n",
        " 1 0 1 0 1 0 1 0 1 0 1 0 1 0 1 0 1 0 1 0 1 0 1 0 1 0 1 0 1 0 1 0 1 0 1 0 1\n",
        " 0 1 0 1]\n",
        "\n",
        "\n",
        "Vector of perceived G\n",
        "[0 1 0 0 0 1 0 1 0 0 0 1 0 1 0 0 0 1 0 1 0 1 1 1 0 0 1 0 0 1 0 1 0 1 0 0 0\n",
        " 1 0 1 0 1 0 1 0 0 0 1 0 1 0 1 0 1 0 1 1 1 0 0 0 1 0 1 0 1 0 0 1 0 1 1 0 1\n",
        " 0 1 1 1 0 1 0 0 1 1 0 1 0 1 0 1 1 1 0 1 0 1 0 1 0 0 1 0 0 1 1 1 1 1 0 1 0\n",
        " 0 1 1 0 1 0 1 1 1 0 1 0 1 1 0 0 1 1 1 0 1 0 1 0 1 1 1 1 1 0 1 0 1 0 1 0 1\n",
        " 1 1 0 1 0 1 0 1 1 0 0 0 0 1 0 0 0 0 1 1 0 0 0 1 1 0 0 1 0 1 1 1 0 0 0 1 0\n",
        " 1 1 1 1 1 1 1 0 0 1 1 0 0 0 1 1 0 0 1 1 1 1 1 1 0 0 1 0 0 0 1 1 0 0 1 0 1\n",
        " 0 1 0 1 0 1 0 0 0 1 0 0 0 1 0 0 0 1 1 0 1 1 0 1 1 1 0 1 1 1 0 1 0 1 1 1 0\n",
        " 1 1 1 0 1 0 1 0 1 0 1 0 0 0 1 1 0 0 0 0 0 0 1 0 1 0 0 1 1 0 1 1 1 1 1 0 1\n",
        " 1 1 0 1]\n",
        "\n",
        "\n",
        "Vector of L\n",
        "[0 1 0 0 0 1 0 1 0 0 0 1 0 1 0 0 0 1 0 1 0 1 0 1 0 0 1 0 0 1 0 1 0 0 0 0 0\n",
        " 1 0 0 0 1 0 1 0 0 0 1 0 1 0 1 0 1 0 1 1 1 0 0 0 1 0 1 0 1 0 0 1 0 1 1 0 1\n",
        " 0 1 1 1 0 1 0 0 1 1 0 1 0 0 0 1 1 1 0 1 0 1 0 0 0 0 1 0 0 1 1 0 1 1 0 1 0\n",
        " 0 1 1 0 0 0 1 0 1 0 1 0 1 0 0 0 1 0 0 0 0 0 0 0 1 1 1 1 1 0 1 0 1 0 1 0 0\n",
        " 1 1 0 0 0 1 0 0 0 0 0 0 0 0 0 0 0 0 0 1 0 0 0 1 0 0 0 0 0 1 0 1 0 0 0 1 0\n",
        " 1 1 0 0 1 0 1 0 0 0 1 0 0 0 1 0 0 0 0 1 0 0 1 1 0 0 0 0 0 0 0 1 0 0 1 0 0\n",
        " 0 0 0 1 0 0 0 0 0 0 0 0 0 0 0 0 0 0 0 0 1 1 0 0 1 0 0 0 0 1 0 1 0 0 0 0 0\n",
        " 0 0 1 0 0 0 0 0 0 0 0 0 0 0 0 0 0 0 0 0 0 0 1 0 0 0 0 1 0 0 1 0 0 1 0 0 0\n",
        " 0 0 0 1]\n"
       ]
      }
     ],
     "prompt_number": 3
    },
    {
     "cell_type": "markdown",
     "metadata": {},
     "source": [
      "Now that we have these three variables we can factorized the code to iterate the experiment and compute the mean specificity and sensitivity along time."
     ]
    },
    {
     "cell_type": "code",
     "collapsed": false,
     "input": [
      "def spe_sen(target, actual):\n",
      "    \"\"\"Compute the (specificity,sensitivity) couple and the Matthews correlation coefficient\n",
      "    for a desired Boolean function called ftar for a neuron implementing the Boolean function f.\n",
      "\n",
      "    parameters\n",
      "    ----------\n",
      "    target : Boolean array\n",
      "        actions taken\n",
      "    actual : Boolean array\n",
      "        actions expected\n",
      "\n",
      "    returns\n",
      "    -------\n",
      "    spe : a float between 0 and 1\n",
      "    sen : a float between 0 and 1\n",
      "    \"\"\"\n",
      "    #Use the binary of the vector to see the difference between actual and target\n",
      "    tp = np.array(target)*2 - actual\n",
      "    TN = len(np.repeat(tp,tp==0))\n",
      "    FN = len(np.repeat(tp,tp==2))\n",
      "    TP = len(np.repeat(tp,tp==1))\n",
      "    FP = len(np.repeat(tp,tp==-1))\n",
      "\n",
      "    spe = float(TN)/(TN+FP)\n",
      "    sen = float(TP)/(TP+FN)\n",
      "\n",
      "    return spe, sen\n",
      "def spe_sen(target, actual):\n",
      "    \"\"\"Compute the (specificity,sensitivity) couple and the Matthews correlation coefficient\n",
      "    for a desired Boolean function called ftar for a neuron implementing the Boolean function f.\n",
      "\n",
      "    parameters\n",
      "    ----------\n",
      "    target : Boolean array\n",
      "        actions taken\n",
      "    actual : Boolean array\n",
      "        actions expected\n",
      "\n",
      "    returns\n",
      "    -------\n",
      "    spe : a float between 0 and 1\n",
      "    sen : a float between 0 and 1\n",
      "    \"\"\"\n",
      "    #Use the binary of the vector to see the difference between actual and target\n",
      "    tp = np.array(target)*2 - actual\n",
      "    TN = len(np.repeat(tp,tp==0))\n",
      "    FN = len(np.repeat(tp,tp==2))\n",
      "    TP = len(np.repeat(tp,tp==1))\n",
      "    FP = len(np.repeat(tp,tp==-1))\n",
      "\n",
      "    spe = float(TN)/(TN+FP)\n",
      "    sen = float(TP)/(TP+FN)\n",
      "\n",
      "    return spe, sen\n",
      "\n",
      "def expe(perceptual_noise = 0.3, duration = 300):\n",
      "    #Generate a G vector\n",
      "    G = np.array([0 if i%2 == 0 else 1 for i in range(duration)])\n",
      "\n",
      "    #Generate the G perceived vector\n",
      "    R = np.random.random(duration) > perceptual_noise\n",
      "    Gp = np.array(np.bitwise_xor(G,R) < 1, np.int) \n",
      "\n",
      "    #Generate the L vector\n",
      "    R2 = np.random.random(duration)\n",
      "    #Initialize vectors to record licks and motivation\n",
      "    L = np.zeros(duration, np.int)\n",
      "    motiv = np.ones(duration, np.float)\n",
      "    #initial motivation\n",
      "    m = 1\n",
      "    for i in range(duration):\n",
      "        if Gp[i] == 1 and R2[i] < m:\n",
      "            L[i] = 1\n",
      "            if G[i] == 1:\n",
      "                m -= 0.01\n",
      "        else:\n",
      "            L[i] = 0\n",
      "\n",
      "    return G, Gp, L\n",
      "\n",
      "def analysis(L, G, n_chunks=10):\n",
      "    #Split the vectors into n_chunks\n",
      "    G_split = np.array_split(G, n_chunks)\n",
      "    L_split = np.array_split(L, n_chunks)\n",
      "    spe = np.zeros(n_chunks)\n",
      "    sen = np.zeros(n_chunks)\n",
      "    \n",
      "    for i in range(n_chunks):\n",
      "        spe[i], sen[i] = spe_sen(G_split[i], L_split[i])\n",
      "    return spe, sen\n",
      "\n",
      "p_n = 0.4\n",
      "dur = 300\n",
      "repetition = 1000\n",
      "n_c = 10\n",
      "spe = np.zeros((repetition, n_c))\n",
      "sen = np.zeros((repetition, n_c))\n",
      "for i in range(repetition):\n",
      "    G, Gp, L = expe(p_n, dur)\n",
      "    spe[i], sen[i] = analysis(L, G, n_c)\n",
      "\n",
      "plot(1 - np.mean(spe, axis=0), color='r')\n",
      "plot(np.mean(sen, axis=0), color='g')\n",
      "plt.xlabel(\"Chunk#\")\n",
      "plt.ylabel(\"Probability\")"
     ],
     "language": "python",
     "metadata": {},
     "outputs": [
      {
       "metadata": {},
       "output_type": "pyout",
       "prompt_number": 8,
       "text": [
        "<matplotlib.text.Text at 0x2e62f10>"
       ]
      },
      {
       "metadata": {},
       "output_type": "display_data",
       "png": "[encoded data removed]",
       "text": [
        "<matplotlib.figure.Figure at 0x2e53310>"
       ]
      }
     ],
     "prompt_number": 8
    },
    {
     "cell_type": "markdown",
     "metadata": {},
     "source": [
      "This is qualitatively the result we wanted. Observing that the specificity decreases along with the sensitivity. Yet the result we would really like is to have the specificity decreasing faster than the sensitivity"
     ]
    },
    {
     "cell_type": "heading",
     "level": 2,
     "metadata": {},
     "source": [
      "Another solution to modeling effect of motivation on performance"
     ]
    },
    {
     "cell_type": "markdown",
     "metadata": {},
     "source": [
      "I am presenting here an alternative to the previous model. This one is more \"reinforcement learning\" like. It is based on action values. There are two actions (lick, no-lick) for each state (go / no-go). It is hardwired that licking is an effective way to decrease thirst, the mouse is learning to associate the lick and a go stimulus. The motivation is modulating the value of licking independently of the state. A thirsty animal will lick more and a satiated animal will lick less. In the RL framework it means that the licking action has more value and the no-licking action has less value. In this case the Q init already specify that the mouse should lick when there is water and not otherwise."
     ]
    },
    {
     "cell_type": "code",
     "collapsed": false,
     "input": [
      "def motivation_effect(q, motivation):\n",
      "    \"\"\"Modify the Q-values depending on the motivation of the agent\"\"\"\n",
      "    q_motiv = np.zeros(q.shape)\n",
      "    for action in range(2):\n",
      "        for state in range(2):\n",
      "            if action == 1:\n",
      "                q_motiv[state, action] = q[state, action] + 3*motivation\n",
      "            else: \n",
      "                q_motiv[state, action] = q[state, action] - 3*motivation\n",
      "    return q_motiv\n",
      "\n",
      "def testbed(states, q_init = np.zeros((2,2)), learning=True, motivation=True, thirst=1):\n",
      "    \"\"\"\n",
      "    Launch a testbed determined by the obs array for an agent with one or two fix or plastic learning rates\n",
      "\n",
      "    PARAMETERS\n",
      "    -----\n",
      "    states: array\n",
      "        observation correponding to states\n",
      "\n",
      "    RETURNS\n",
      "    -------\n",
      "    rec_choice: array\n",
      "         recording the choice of the agent for each episode and each iteration\n",
      "    rec_q: array\n",
      "         recording the internal q-values of the agent\n",
      "    rec_reward: array\n",
      "         recording the learning rates\n",
      "    \"\"\"\n",
      "    n_trials = len(states)\n",
      "    expected_actions = states\n",
      "\n",
      "    rec_q = np.zeros((n_trials, 2, 2), np.float)\n",
      "    rec_action = np.zeros(n_trials, np.int)\n",
      "    rec_reward = np.zeros(n_trials, np.int)\n",
      "\n",
      "    q_est = q_init\n",
      "    for i in range(n_trials):\n",
      "        #Modify the Q estimates given the motivation\n",
      "        if motivation:\n",
      "            q_est = motivation_effect(q_init, thirst)\n",
      "        #Choose given the Q estimates and the state\n",
      "        action = softmax(q_est[states[i]])\n",
      "        #Record the choice\n",
      "        rec_action[i] = action\n",
      "        if states[i] == 1:\n",
      "            if action == 1:\n",
      "                reward = 1\n",
      "            else:\n",
      "                reward = 0\n",
      "        else:\n",
      "            reward = 0\n",
      "        rec_reward[i] = reward\n",
      "        #Update the q_values gove the state, action and reward\n",
      "        if learning:\n",
      "            q_est[states[i], action] = set_qnext(q_est[states[i], action], reward)\n",
      "\n",
      "        #Record Q estimate\n",
      "        rec_q[i] = q_est\n",
      "        thirst -= 0.01\n",
      "        #import pdb; pdb.set_trace()\n",
      "\n",
      "    return rec_q, rec_action, rec_reward\n",
      "\n",
      "def motiv_expe(itsit=1, motivation=True):\n",
      "    \"\"\"An experiment where the motivation matters\n",
      "    #Define the intensity of licking\n",
      "    itsit = 1\"\"\"\n",
      "    #For action 0 (no-go) then there is no-lick (0)\n",
      "    #And for action\n",
      "    q_init = np.array([[itsit,-itsit],\n",
      "                      [-itsit,itsit]])\n",
      "    #Initiate the motivation\n",
      "    thirst = itsit\n",
      "    states = stimulus(200, 0.5)\n",
      "    rec_q, rec_action, rec_reward = testbed(states, q_init, motivation=motivation)\n",
      "    return states, rec_action\n",
      "\n",
      "\n",
      "def spe_sen(target, actual):\n",
      "    \"\"\"Compute the (specificity,sensitivity) couple given a target and actual outcome\n",
      "\n",
      "    parameters\n",
      "    ----------\n",
      "    target : Boolean array\n",
      "        actions taken\n",
      "    actual : Boolean array\n",
      "        actions expected\n",
      "\n",
      "    returns\n",
      "    -------\n",
      "    spe : a float between 0 and 1\n",
      "    sen : a float between 0 and 1\n",
      "    \"\"\"\n",
      "    #Use the binary of the vector to see the difference between actual and target\n",
      "    tp = np.array(target)*2 - actual\n",
      "    TN = len(np.repeat(tp,tp==0))\n",
      "    FN = len(np.repeat(tp,tp==2))\n",
      "    TP = len(np.repeat(tp,tp==1))\n",
      "    FP = len(np.repeat(tp,tp==-1))\n",
      "\n",
      "    spe = float(TN)/(TN+FP)\n",
      "    sen = float(TP)/(TP+FN)\n",
      "\n",
      "    return spe, sen\n",
      "\n",
      "repetition = 100\n",
      "n_c = 3\n",
      "spe = np.zeros((repetition, n_c))\n",
      "sen = np.zeros((repetition, n_c))\n",
      "for i in range(repetition):\n",
      "    G, L = motiv_expe(1, False)\n",
      "    spe[i], sen[i] = analysis(L, G, n_c)\n",
      "\n",
      "plot(1 - np.mean(spe, axis=0), color='r')\n",
      "plot(np.mean(sen, axis=0), color='g')\n",
      "plt.xlabel(\"Chunk#\")\n",
      "plt.ylabel(\"Probability\")"
     ],
     "language": "python",
     "metadata": {},
     "outputs": [
      {
       "metadata": {},
       "output_type": "pyout",
       "prompt_number": 36,
       "text": [
        "<matplotlib.text.Text at 0x4ff8410>"
       ]
      },
      {
       "metadata": {},
       "output_type": "display_data",
       "png": "[encoded data removed]",
       "text": [
        "<matplotlib.figure.Figure at 0x4ddbd10>"
       ]
      }
     ],
     "prompt_number": 36
    },
    {
     "cell_type": "markdown",
     "metadata": {},
     "source": [
      "There is no learning here, this is a pure effect of motivation showing that it changes the performance along time during a single session. Another way to see this effect is to look at the trajectory on the ROC curve."
     ]
    },
    {
     "cell_type": "code",
     "collapsed": false,
     "input": [
      "%run lib.py\n",
      "repetition = 10\n",
      "n_c = 3\n",
      "spe = np.zeros((repetition, n_c))\n",
      "sen = np.zeros((repetition, n_c))\n",
      "for i in range(repetition):\n",
      "    G, L = motiv_exp(1, motivation=False)\n",
      "    spe[i], sen[i] = analysis(L, G, n_c)\n",
      "\n",
      "plot(1 - np.mean(spe, axis=0), color='r')\n",
      "plot(np.mean(sen, axis=0), color='g')\n",
      "plt.xlabel(\"Chunk#\")\n",
      "plt.ylabel(\"Probability\")\n"
     ],
     "language": "python",
     "metadata": {},
     "outputs": [
      {
       "ename": "TypeError",
       "evalue": "testbed() got an unexpected keyword argument 'motivation'",
       "output_type": "pyerr",
       "traceback": [
        "\u001b[1;31m---------------------------------------------------------------------------\u001b[0m\n\u001b[1;31mTypeError\u001b[0m                                 Traceback (most recent call last)",
        "\u001b[1;32m<ipython-input-24-149a2a593036>\u001b[0m in \u001b[0;36m<module>\u001b[1;34m()\u001b[0m\n\u001b[0;32m      5\u001b[0m \u001b[0msen\u001b[0m \u001b[1;33m=\u001b[0m \u001b[0mnp\u001b[0m\u001b[1;33m.\u001b[0m\u001b[0mzeros\u001b[0m\u001b[1;33m(\u001b[0m\u001b[1;33m(\u001b[0m\u001b[0mrepetition\u001b[0m\u001b[1;33m,\u001b[0m \u001b[0mn_c\u001b[0m\u001b[1;33m)\u001b[0m\u001b[1;33m)\u001b[0m\u001b[1;33m\u001b[0m\u001b[0m\n\u001b[0;32m      6\u001b[0m \u001b[1;32mfor\u001b[0m \u001b[0mi\u001b[0m \u001b[1;32min\u001b[0m \u001b[0mrange\u001b[0m\u001b[1;33m(\u001b[0m\u001b[0mrepetition\u001b[0m\u001b[1;33m)\u001b[0m\u001b[1;33m:\u001b[0m\u001b[1;33m\u001b[0m\u001b[0m\n\u001b[1;32m----> 7\u001b[1;33m     \u001b[0mG\u001b[0m\u001b[1;33m,\u001b[0m \u001b[0mL\u001b[0m \u001b[1;33m=\u001b[0m \u001b[0mmotiv_exp\u001b[0m\u001b[1;33m(\u001b[0m\u001b[1;36m1\u001b[0m\u001b[1;33m,\u001b[0m \u001b[0mmotivation\u001b[0m\u001b[1;33m=\u001b[0m\u001b[0mFalse\u001b[0m\u001b[1;33m)\u001b[0m\u001b[1;33m\u001b[0m\u001b[0m\n\u001b[0m\u001b[0;32m      8\u001b[0m     \u001b[0mspe\u001b[0m\u001b[1;33m[\u001b[0m\u001b[0mi\u001b[0m\u001b[1;33m]\u001b[0m\u001b[1;33m,\u001b[0m \u001b[0msen\u001b[0m\u001b[1;33m[\u001b[0m\u001b[0mi\u001b[0m\u001b[1;33m]\u001b[0m \u001b[1;33m=\u001b[0m \u001b[0manalysis\u001b[0m\u001b[1;33m(\u001b[0m\u001b[0mL\u001b[0m\u001b[1;33m,\u001b[0m \u001b[0mG\u001b[0m\u001b[1;33m,\u001b[0m \u001b[0mn_c\u001b[0m\u001b[1;33m)\u001b[0m\u001b[1;33m\u001b[0m\u001b[0m\n\u001b[0;32m      9\u001b[0m \u001b[1;33m\u001b[0m\u001b[0m\n",
        "\u001b[1;32m/home/rcaze/Documents/Articles/15_02BeCaSc/Scripts/lib.py\u001b[0m in \u001b[0;36mmotiv_exp\u001b[1;34m(itsit, motivation)\u001b[0m\n\u001b[0;32m    133\u001b[0m \u001b[1;33m\u001b[0m\u001b[0m\n\u001b[0;32m    134\u001b[0m     \u001b[0mstates\u001b[0m \u001b[1;33m=\u001b[0m \u001b[0mstimulus\u001b[0m\u001b[1;33m(\u001b[0m\u001b[1;36m200\u001b[0m\u001b[1;33m,\u001b[0m \u001b[1;36m0.5\u001b[0m\u001b[1;33m)\u001b[0m\u001b[1;33m\u001b[0m\u001b[0m\n\u001b[1;32m--> 135\u001b[1;33m     \u001b[0mrec_q\u001b[0m\u001b[1;33m,\u001b[0m \u001b[0mrec_action\u001b[0m\u001b[1;33m,\u001b[0m \u001b[0mrec_reward\u001b[0m \u001b[1;33m=\u001b[0m \u001b[0mtestbed\u001b[0m\u001b[1;33m(\u001b[0m\u001b[0mstates\u001b[0m\u001b[1;33m,\u001b[0m \u001b[0mq_init\u001b[0m\u001b[1;33m,\u001b[0m \u001b[0mlearning\u001b[0m\u001b[1;33m=\u001b[0m\u001b[0mTrue\u001b[0m\u001b[1;33m,\u001b[0m \u001b[0mmotivation\u001b[0m\u001b[1;33m=\u001b[0m\u001b[0mFalse\u001b[0m\u001b[1;33m)\u001b[0m\u001b[1;33m\u001b[0m\u001b[0m\n\u001b[0m\u001b[0;32m    136\u001b[0m \u001b[1;33m\u001b[0m\u001b[0m\n\u001b[0;32m    137\u001b[0m     \u001b[1;32mreturn\u001b[0m \u001b[0mstates\u001b[0m\u001b[1;33m,\u001b[0m \u001b[0mrec_action\u001b[0m\u001b[1;33m\u001b[0m\u001b[0m\n",
        "\u001b[1;31mTypeError\u001b[0m: testbed() got an unexpected keyword argument 'motivation'"
       ]
      }
     ],
     "prompt_number": 24
    },
    {
     "cell_type": "code",
     "collapsed": false,
     "input": [
      "spe"
     ],
     "language": "python",
     "metadata": {},
     "outputs": [
      {
       "metadata": {},
       "output_type": "pyout",
       "prompt_number": 18,
       "text": [
        "array([[ 0.1       ,  0.74285714,  0.96296296],\n",
        "       [ 0.23684211,  0.91176471,  0.96875   ],\n",
        "       [ 0.2       ,  0.87096774,  1.        ],\n",
        "       [ 0.18918919,  0.86111111,  0.97058824],\n",
        "       [ 0.24137931,  0.85714286,  1.        ],\n",
        "       [ 0.26666667,  0.9       ,  1.        ],\n",
        "       [ 0.17142857,  0.78787879,  1.        ],\n",
        "       [ 0.17777778,  0.90322581,  1.        ],\n",
        "       [ 0.125     ,  0.75675676,  1.        ],\n",
        "       [ 0.125     ,  0.87878788,  1.        ]])"
       ]
      }
     ],
     "prompt_number": 18
    }
   ],
   "metadata": {}
  }
 ]
}